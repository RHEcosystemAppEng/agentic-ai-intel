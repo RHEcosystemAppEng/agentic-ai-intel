{
 "cells": [
  {
   "cell_type": "code",
   "execution_count": null,
   "id": "15cd93a1-9898-4466-a43d-c0749ee9ebed",
   "metadata": {},
   "outputs": [],
   "source": [
    "import torch\n",
    "from sentence_transformers import SentenceTransformer\n",
    "from transformers import AutoTokenizer, AutoModel\n",
    "import os\n",
    "import time\n",
    "import boto3\n",
    "import botocore\n",
    "from pathlib import Path\n",
    "from huggingface_hub import login"
   ]
  },
  {
   "cell_type": "code",
   "execution_count": null,
   "id": "eb526ec7-ac86-4160-b6f7-423e8fbb1ba6",
   "metadata": {},
   "outputs": [],
   "source": [
    "#Some models require a hugginface login; uncomment the following code\n",
    "#to enable an interactive login screen where you can provide your hugginface credentials\n",
    "#from huggingface_hub import notebook_login.\n",
    "#For some models, you may also need to login to Huggingface using your browser and agree to a use policy.\n",
    "#notebook_login()"
   ]
  },
  {
   "cell_type": "code",
   "execution_count": null,
   "id": "683f77a9-947e-46d3-b467-b596d51344e9",
   "metadata": {},
   "outputs": [],
   "source": [
    "#Setup variables for this script"
   ]
  },
  {
   "cell_type": "code",
   "execution_count": null,
   "id": "5bd272cb-66e8-4bd4-b1fb-d9a03b3977ad",
   "metadata": {},
   "outputs": [],
   "source": [
    "models_dir = Path.cwd() / \"models\"\n",
    "models_dir.mkdir(parents=True, exist_ok=True)\n",
    "model_prefix = \"GritLM\"\n",
    "model_name = \"GritLM-7B\"\n",
    "full_model_name = f\"{model_prefix}/{model_name}\"\n",
    "save_path = models_dir / model_prefix"
   ]
  },
  {
   "cell_type": "code",
   "execution_count": null,
   "id": "a1da6557-820b-4a33-ab60-796b381efc43",
   "metadata": {},
   "outputs": [],
   "source": [
    "#Download model"
   ]
  },
  {
   "cell_type": "code",
   "execution_count": null,
   "id": "d01e85f5-d9b9-4756-828d-1276a5219eea",
   "metadata": {},
   "outputs": [],
   "source": [
    "from huggingface_hub import snapshot_download\n",
    "snapshot_download(repo_id=full_model_name, local_dir=save_path)"
   ]
  },
  {
   "cell_type": "code",
   "execution_count": null,
   "id": "7c973026-a2b7-4f1e-a89b-c47a3e445a06",
   "metadata": {},
   "outputs": [],
   "source": [
    "#Get the s3 connection parameters (these are entered in the workbench setup screens)"
   ]
  },
  {
   "cell_type": "code",
   "execution_count": null,
   "id": "c998c48b-4cc5-41dc-b2d2-5896172cb500",
   "metadata": {},
   "outputs": [],
   "source": [
    "aws_access_key_id = os.environ.get('AWS_ACCESS_KEY_ID')\n",
    "aws_secret_access_key = os.environ.get('AWS_SECRET_ACCESS_KEY')\n",
    "endpoint_url = os.environ.get('AWS_S3_ENDPOINT')\n",
    "region_name = os.environ.get('AWS_DEFAULT_REGION')\n",
    "bucket_name = os.environ.get('AWS_S3_BUCKET')"
   ]
  },
  {
   "cell_type": "code",
   "execution_count": null,
   "id": "eead23f5-ce2e-4ea4-af8d-e00787bb2940",
   "metadata": {},
   "outputs": [],
   "source": [
    "session = boto3.session.Session(\n",
    "            aws_access_key_id=aws_access_key_id,\n",
    "            aws_secret_access_key=aws_secret_access_key\n",
    "          )"
   ]
  },
  {
   "cell_type": "code",
   "execution_count": null,
   "id": "01f9b575-9eeb-433a-85e7-4637e9fc2aec",
   "metadata": {},
   "outputs": [],
   "source": [
    "s3_resource = session.resource(\n",
    "               's3',\n",
    "               config=botocore.client.Config(signature_version='s3v4'),\n",
    "               endpoint_url=endpoint_url,\n",
    "               region_name=region_name\n",
    "              )\n",
    "bucket = s3_resource.Bucket(bucket_name)\n",
    "                        \n",
    "def upload_directory_to_s3(local_directory, s3_prefix):\n",
    "    for root, dirs, files in os.walk(local_directory):\n",
    "        for filename in files:\n",
    "            file_path = os.path.join(root, filename)\n",
    "            relative_path = os.path.relpath(file_path, local_directory)\n",
    "            s3_key = os.path.join(s3_prefix, relative_path)\n",
    "            print(f\"{file_path} -> {s3_key}\")\n",
    "            bucket.upload_file(file_path, s3_key)\n",
    "                                \n",
    "def list_objects(prefix):\n",
    "    filter = bucket.objects.filter(Prefix=prefix)\n",
    "    for obj in filter.all():\n",
    "        print(obj.key)"
   ]
  },
  {
   "cell_type": "code",
   "execution_count": null,
   "id": "02ff13ad-7bff-4aed-88da-adc6163037ef",
   "metadata": {},
   "outputs": [],
   "source": [
    "#Upload the model to an S3 bucket within the cluster"
   ]
  },
  {
   "cell_type": "code",
   "execution_count": null,
   "id": "fc066e83-f873-496e-9eac-a021f1c190cb",
   "metadata": {},
   "outputs": [],
   "source": [
    "upload_directory_to_s3(save_path, model_name)"
   ]
  }
 ],
 "metadata": {
  "kernelspec": {
   "display_name": "Python 3.11",
   "language": "python",
   "name": "python3"
  },
  "language_info": {
   "codemirror_mode": {
    "name": "ipython",
    "version": 3
   },
   "file_extension": ".py",
   "mimetype": "text/x-python",
   "name": "python",
   "nbconvert_exporter": "python",
   "pygments_lexer": "ipython3",
   "version": "3.11.9"
  }
 },
 "nbformat": 4,
 "nbformat_minor": 5
}

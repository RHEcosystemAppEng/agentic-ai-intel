{
 "cells": [
  {
   "cell_type": "code",
   "execution_count": null,
   "id": "f33fe3f9-ec38-45a7-bccc-184d713a28b4",
   "metadata": {},
   "outputs": [],
   "source": [
    "import torch\n",
    "from sentence_transformers import SentenceTransformer\n",
    "from transformers import AutoTokenizer, AutoModel\n",
    "import os\n",
    "import time\n",
    "import boto3\n",
    "import botocore\n",
    "from pathlib import Path\n",
    "from huggingface_hub import login"
   ]
  },
  {
   "cell_type": "code",
   "execution_count": null,
   "id": "aa562aeb-f9d1-46c4-bbc3-1ef07eebe66f",
   "metadata": {},
   "outputs": [],
   "source": [
    "#Some models require a hugginface login; uncomment the following code\n",
    "#to enable an interactive login screen where you can provide your hugginface credentials\n",
    "#from huggingface_hub import notebook_login.\n",
    "#For some models, you may also need to login to Huggingface using your browser and agree to a use policy.\n",
    "#notebook_login()"
   ]
  },
  {
   "cell_type": "code",
   "execution_count": null,
   "id": "e0458485-3545-4f26-8cac-28a0f35a5ee1",
   "metadata": {},
   "outputs": [],
   "source": [
    "#Setup variables for this script"
   ]
  },
  {
   "cell_type": "code",
   "execution_count": null,
   "id": "54eafdfc-ed71-4b2d-9d80-af6b49ff4bd5",
   "metadata": {},
   "outputs": [],
   "source": [
    "models_dir = Path.cwd() / \"models\"\n",
    "models_dir.mkdir(parents=True, exist_ok=True)\n",
    "model_prefix = \"meta-llama\"\n",
    "model_name = \"Llama-3.1-8B-Instruct\"\n",
    "full_model_name = f\"{model_prefix}/{model_name}\"\n",
    "save_path = models_dir / model_prefix"
   ]
  },
  {
   "cell_type": "code",
   "execution_count": null,
   "id": "7fa6d5f8-3e33-434e-a82a-f1eff98b5106",
   "metadata": {},
   "outputs": [],
   "source": [
    "#Download model"
   ]
  },
  {
   "cell_type": "code",
   "execution_count": null,
   "id": "a5573117-e883-4177-95cd-64228bcde136",
   "metadata": {},
   "outputs": [],
   "source": [
    "from huggingface_hub import snapshot_download\n",
    "snapshot_download(repo_id=full_model_name, local_dir=save_path)"
   ]
  },
  {
   "cell_type": "code",
   "execution_count": null,
   "id": "a76fda51-1c97-4137-83b2-2bd1d1fce059",
   "metadata": {},
   "outputs": [],
   "source": [
    "#Get the s3 connection parameters (these are entered in the workbench setup screens)"
   ]
  },
  {
   "cell_type": "code",
   "execution_count": null,
   "id": "ab9e3c08-dc1a-4dfb-8b80-b5a7d4ea6647",
   "metadata": {},
   "outputs": [],
   "source": [
    "aws_access_key_id = os.environ.get('AWS_ACCESS_KEY_ID')\n",
    "aws_secret_access_key = os.environ.get('AWS_SECRET_ACCESS_KEY')\n",
    "endpoint_url = os.environ.get('AWS_S3_ENDPOINT')\n",
    "region_name = os.environ.get('AWS_DEFAULT_REGION')\n",
    "bucket_name = os.environ.get('AWS_S3_BUCKET')"
   ]
  },
  {
   "cell_type": "code",
   "execution_count": null,
   "id": "608592ff-749c-4ede-9abe-84c235c002f1",
   "metadata": {},
   "outputs": [],
   "source": [
    "session = boto3.session.Session(\n",
    "            aws_access_key_id=aws_access_key_id,\n",
    "            aws_secret_access_key=aws_secret_access_key\n",
    "          )"
   ]
  },
  {
   "cell_type": "code",
   "execution_count": null,
   "id": "70089f9d-1ff9-4c16-bd84-93ee1c5c0df0",
   "metadata": {},
   "outputs": [],
   "source": [
    "s3_resource = session.resource(\n",
    "               's3',\n",
    "               config=botocore.client.Config(signature_version='s3v4'),\n",
    "               endpoint_url=endpoint_url,\n",
    "               region_name=region_name\n",
    "              )\n",
    "bucket = s3_resource.Bucket(bucket_name)\n",
    "                        \n",
    "def upload_directory_to_s3(local_directory, s3_prefix):\n",
    "    for root, dirs, files in os.walk(local_directory):\n",
    "        for filename in files:\n",
    "            file_path = os.path.join(root, filename)\n",
    "            relative_path = os.path.relpath(file_path, local_directory)\n",
    "            s3_key = os.path.join(s3_prefix, relative_path)\n",
    "            print(f\"{file_path} -> {s3_key}\")\n",
    "            bucket.upload_file(file_path, s3_key)\n",
    "                                \n",
    "def list_objects(prefix):\n",
    "    filter = bucket.objects.filter(Prefix=prefix)\n",
    "    for obj in filter.all():\n",
    "        print(obj.key)"
   ]
  },
  {
   "cell_type": "code",
   "execution_count": null,
   "id": "812d26bb-32d1-40ae-8919-14b3a3b02511",
   "metadata": {},
   "outputs": [],
   "source": [
    "#Upload the model to an S3 bucket within the cluster"
   ]
  },
  {
   "cell_type": "code",
   "execution_count": null,
   "id": "ef6fa2a0-481d-451d-91b4-3d7fbbf005cf",
   "metadata": {},
   "outputs": [],
   "source": [
    "upload_directory_to_s3(save_path, model_name)"
   ]
  }
 ],
 "metadata": {
  "kernelspec": {
   "display_name": "Python 3.11",
   "language": "python",
   "name": "python3"
  },
  "language_info": {
   "codemirror_mode": {
    "name": "ipython",
    "version": 3
   },
   "file_extension": ".py",
   "mimetype": "text/x-python",
   "name": "python",
   "nbconvert_exporter": "python",
   "pygments_lexer": "ipython3",
   "version": "3.11.9"
  }
 },
 "nbformat": 4,
 "nbformat_minor": 5
}
